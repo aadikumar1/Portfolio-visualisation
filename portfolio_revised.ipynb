{
 "cells": [
  {
   "cell_type": "code",
   "execution_count": null,
   "metadata": {},
   "outputs": [],
   "source": [
    "import yfinance as yf\n",
    "import pandas as pd  \n",
    "from datetime import datetime, timedelta\n",
    "import numpy as np  \n",
    "from scipy.optimize import minimizepip\n",
    "# Make imports work "
   ]
  },
  {
   "cell_type": "markdown",
   "metadata": {},
   "source": [
    "Define the list of tickers"
   ]
  },
  {
   "cell_type": "code",
   "execution_count": 5,
   "metadata": {},
   "outputs": [],
   "source": [
    "tickers = ['LMT' , 'GM' , 'RUT' , 'NVDA' , 'MSFT']\n",
    "#choose tickers for optimal portfolio gains. Considered industrial implications and past financial performance , stock valuation"
   ]
  },
  {
   "cell_type": "markdown",
   "metadata": {},
   "source": [
    "Setting the date to 5 years prior"
   ]
  },
  {
   "cell_type": "code",
   "execution_count": 6,
   "metadata": {},
   "outputs": [
    {
     "ename": "NameError",
     "evalue": "name 'datetime' is not defined",
     "output_type": "error",
     "traceback": [
      "\u001b[0;31m---------------------------------------------------------------------------\u001b[0m",
      "\u001b[0;31mNameError\u001b[0m                                 Traceback (most recent call last)",
      "Cell \u001b[0;32mIn[6], line 1\u001b[0m\n\u001b[0;32m----> 1\u001b[0m end_date \u001b[38;5;241m=\u001b[39m \u001b[43mdatetime\u001b[49m\u001b[38;5;241m.\u001b[39mtoday()\n",
      "\u001b[0;31mNameError\u001b[0m: name 'datetime' is not defined"
     ]
    }
   ],
   "source": [
    "end_date = datetime.today()"
   ]
  },
  {
   "cell_type": "code",
   "execution_count": null,
   "metadata": {},
   "outputs": [],
   "source": [
    "start_date = end_date - timedelta(days = 5*365)\n",
    "print(start_date)"
   ]
  },
  {
   "cell_type": "markdown",
   "metadata": {},
   "source": [
    "Create an empty dataframe  to collect closing prices and adjust for all variables"
   ]
  },
  {
   "cell_type": "code",
   "execution_count": null,
   "metadata": {},
   "outputs": [],
   "source": [
    "adj_close_df = pd.DataFrame()"
   ]
  },
  {
   "cell_type": "markdown",
   "metadata": {},
   "source": [
    "Downloading the close prices for each ticker"
   ]
  },
  {
   "cell_type": "code",
   "execution_count": 7,
   "metadata": {},
   "outputs": [
    {
     "ename": "NameError",
     "evalue": "name 'yf' is not defined",
     "output_type": "error",
     "traceback": [
      "\u001b[0;31m---------------------------------------------------------------------------\u001b[0m",
      "\u001b[0;31mNameError\u001b[0m                                 Traceback (most recent call last)",
      "Cell \u001b[0;32mIn[7], line 3\u001b[0m\n\u001b[1;32m      1\u001b[0m tickers \u001b[38;5;241m=\u001b[39m [\u001b[38;5;124m'\u001b[39m\u001b[38;5;124mLMT\u001b[39m\u001b[38;5;124m'\u001b[39m , \u001b[38;5;124m'\u001b[39m\u001b[38;5;124mGM\u001b[39m\u001b[38;5;124m'\u001b[39m , \u001b[38;5;124m'\u001b[39m\u001b[38;5;124mRUT\u001b[39m\u001b[38;5;124m'\u001b[39m , \u001b[38;5;124m'\u001b[39m\u001b[38;5;124mNVDA\u001b[39m\u001b[38;5;124m'\u001b[39m , \u001b[38;5;124m'\u001b[39m\u001b[38;5;124mMSFT\u001b[39m\u001b[38;5;124m'\u001b[39m]\n\u001b[1;32m      2\u001b[0m \u001b[38;5;28;01mfor\u001b[39;00m ticker \u001b[38;5;129;01min\u001b[39;00m tickers:\n\u001b[0;32m----> 3\u001b[0m     data \u001b[38;5;241m=\u001b[39m \u001b[43myf\u001b[49m\u001b[38;5;241m.\u001b[39mdownload(ticker, start\u001b[38;5;241m=\u001b[39m start_date, end \u001b[38;5;241m=\u001b[39m end_date)\n\u001b[1;32m      4\u001b[0m     adj_close_df[ticker] \u001b[38;5;241m=\u001b[39m data[\u001b[38;5;124m'\u001b[39m\u001b[38;5;124mAdj Close\u001b[39m\u001b[38;5;124m'\u001b[39m]\n",
      "\u001b[0;31mNameError\u001b[0m: name 'yf' is not defined"
     ]
    }
   ],
   "source": [
    "tickers = ['LMT' , 'GM' , 'RUT' , 'NVDA' , 'MSFT']\n",
    "for ticker in tickers:\n",
    "    data = yf.download(ticker, start= start_date, end = end_date)\n",
    "    adj_close_df[ticker] = data['Adj Close']"
   ]
  },
  {
   "cell_type": "code",
   "execution_count": null,
   "metadata": {},
   "outputs": [],
   "source": [
    "print(adj_close_df)"
   ]
  },
  {
   "cell_type": "markdown",
   "metadata": {},
   "source": [
    "Calculating Lognormal returns "
   ]
  },
  {
   "cell_type": "code",
   "execution_count": 2,
   "metadata": {},
   "outputs": [
    {
     "ename": "NameError",
     "evalue": "name 'np' is not defined",
     "output_type": "error",
     "traceback": [
      "\u001b[0;31m---------------------------------------------------------------------------\u001b[0m",
      "\u001b[0;31mNameError\u001b[0m                                 Traceback (most recent call last)",
      "Cell \u001b[0;32mIn[2], line 1\u001b[0m\n\u001b[0;32m----> 1\u001b[0m log_returns \u001b[38;5;241m=\u001b[39m \u001b[43mnp\u001b[49m\u001b[38;5;241m.\u001b[39mlog(adj_close_df\u001b[38;5;241m/\u001b[39madj_close_df\u001b[38;5;241m.\u001b[39mshift(\u001b[38;5;241m1\u001b[39m))\n\u001b[1;32m      2\u001b[0m log_returns \u001b[38;5;241m=\u001b[39m log_returns\u001b[38;5;241m.\u001b[39mdropna()\n",
      "\u001b[0;31mNameError\u001b[0m: name 'np' is not defined"
     ]
    }
   ],
   "source": [
    "log_returns = np.log(adj_close_df/adj_close_df.shift(1))\n",
    "log_returns = log_returns.dropna()"
   ]
  },
  {
   "cell_type": "markdown",
   "metadata": {},
   "source": [
    "CALCULATING COVARIANCE MATRIX (Use 252 trading days)"
   ]
  },
  {
   "cell_type": "code",
   "execution_count": null,
   "metadata": {},
   "outputs": [],
   "source": [
    "cov_matrix = log_returns.cov()*252\n",
    "print(cov_matrix)\n",
    "#displays covariance matrix with relative stock/index prices"
   ]
  },
  {
   "cell_type": "markdown",
   "metadata": {},
   "source": [
    "STANDARD DEVIATION"
   ]
  },
  {
   "cell_type": "code",
   "execution_count": null,
   "metadata": {},
   "outputs": [],
   "source": [
    "def standard_deviation(weights, cov_matrix):\n",
    "    variance = weights.T @ cov_matrix @ weights\n",
    "    return np.sqrt(variance)"
   ]
  },
  {
   "cell_type": "markdown",
   "metadata": {},
   "source": [
    "EXPECTED RETURN"
   ]
  },
  {
   "cell_type": "code",
   "execution_count": null,
   "metadata": {},
   "outputs": [],
   "source": [
    "def expected_return(weights, log_return):\n",
    "    return np.sum(log_returns.mean(*weights))*252\n",
    "# average return calcuulated based on lognormal return and weights"
   ]
  },
  {
   "cell_type": "markdown",
   "metadata": {},
   "source": [
    "CALCULATING SHARPE RATIO "
   ]
  },
  {
   "cell_type": "code",
   "execution_count": null,
   "metadata": {},
   "outputs": [],
   "source": [
    "def sharpe_ratio(weights, log_returns, cov_matrix, risk_free_rate):\n",
    "    return(expected_return (weights, log_returns)- risk_free_rate) / standard_deviation(weights, cov_matrix)"
   ]
  },
  {
   "cell_type": "markdown",
   "metadata": {},
   "source": [
    "CALCULATING RISK FREE RATE \n",
    "(using fred API to calculate average treasury bond rate\n",
    "also can take standard assumption of 2%)"
   ]
  },
  {
   "cell_type": "code",
   "execution_count": null,
   "metadata": {},
   "outputs": [],
   "source": [
    "from fredapi import Fred\n",
    "\n",
    "fred = Fred(api_key= '2d60db8717ba3d033f961ac04cf4855e')\n",
    "ten_year_treasury_rate = fred.get_series_latest_release('GS10' / 100)\n",
    "\n",
    "#Set the risk free rate\n",
    "\n",
    "risk_free_rate = ten_year_treasury_rate.iloc[-1]\n",
    "print(risk_free_rate)"
   ]
  },
  {
   "cell_type": "markdown",
   "metadata": {},
   "source": [
    "Function to minimize (Negative sharp ratio )"
   ]
  },
  {
   "cell_type": "code",
   "execution_count": null,
   "metadata": {},
   "outputs": [],
   "source": [
    "def neg_sharpe_ratio(weights, log_returns, cov_matrix, risk_free_rate):\n",
    "    return -sharpe_ratio(weights, log_returns, cov_matrix, risk_free_rate)"
   ]
  },
  {
   "cell_type": "markdown",
   "metadata": {},
   "source": [
    "Setting constraints: ensuring all portfolio weights are equal to one. Setting lower and upper bounds for the ratio of investments in multiple stocks. The constraint variable is set as a dictionary"
   ]
  },
  {
   "cell_type": "code",
   "execution_count": null,
   "metadata": {},
   "outputs": [],
   "source": [
    "constraints = {'type': 'eq', 'fun': lambda weights: np.sum(weights) -1}\n",
    "bounds = [(0, 0.5) for_in range(len(tickers))]"
   ]
  },
  {
   "cell_type": "code",
   "execution_count": null,
   "metadata": {},
   "outputs": [],
   "source": [
    "initial_weights = np.array([1/len(tickers)]*len(tickers))"
   ]
  },
  {
   "cell_type": "markdown",
   "metadata": {},
   "source": [
    "Optimizing weights to the maximum sharpe ratio "
   ]
  },
  {
   "cell_type": "code",
   "execution_count": null,
   "metadata": {},
   "outputs": [],
   "source": [
    "optimized_results = minimize(neg_sharpe_ratio, initial_weights, args=(log_returns, cov_matrix, risk_free_rate), method= 'SLSQP', constraints=constraints, bounds=bounds)\n",
    "\n",
    "# args are the arguements and constraints are used for optimal weights extraction"
   ]
  },
  {
   "cell_type": "code",
   "execution_count": null,
   "metadata": {},
   "outputs": [],
   "source": [
    "optimal_weights = optimized_results.x"
   ]
  },
  {
   "cell_type": "markdown",
   "metadata": {},
   "source": [
    "Data Visualisation of efficent frontiers/ weights"
   ]
  },
  {
   "cell_type": "code",
   "execution_count": null,
   "metadata": {},
   "outputs": [],
   "source": [
    "print(\"optimal wights:\")\n",
    "for ticker, weight in zip(tickers, optimal_weights):\n",
    "   print(f\"{ticker}: {weight: .4f}\") #understand print statement \n",
    "\n",
    "\n",
    "optimal_portfolio_return = expected_return(optimal_weights, log_returns)\n",
    "optimal_portfolio_vollatility = standard_deviation(optimal_weights, cov_matrix)\n",
    "optimal_sharpe_ratio = sharpe_ratio(optimal_weights, log_returns, cov_matrix, risk_free_rate)\n",
    "\n",
    "print(f\"Expected Annual Return: {optimal_portfolio_return:.4f}\")\n",
    "print(f\"Expected volatility: {optimal_portfolio_vollatility:.4f}\")\n",
    "print(f\"Sharpe Ratio: {optimal_sharpe_ratio:.4f}\")\n"
   ]
  },
  {
   "cell_type": "markdown",
   "metadata": {},
   "source": [
    "Final portfolio weightage plot"
   ]
  },
  {
   "cell_type": "code",
   "execution_count": null,
   "metadata": {},
   "outputs": [],
   "source": [
    "import matplotlib.pyplot as plt\n",
    "\n",
    "#creating a bar chart \n",
    "\n",
    "plt.figure(figsize=(10, 6)) #understnad figsize\n",
    "plt.bar(tickers, optimal_weights)\n",
    "\n",
    "#Add labels\n",
    "plt.xlabel('Assets')\n",
    "plt.ylabel('Optimal Weights')\n",
    "plt.title('Optima portfolio Weights')\n",
    "\n",
    "#Chart Display\n",
    "plt.show()"
   ]
  },
  {
   "cell_type": "markdown",
   "metadata": {},
   "source": [
    "MONTE CARLO SIMULATIONS"
   ]
  },
  {
   "cell_type": "code",
   "execution_count": null,
   "metadata": {},
   "outputs": [],
   "source": [
    "#simulation imports \n",
    "from pandas_datareader import data as pdr\n",
    "\n",
    "\n",
    "def get_data(stocks, start, end):\n",
    "    StockData = pdr.get_data_yahoo(stocks, start, end)\n",
    "    StockData = StockData['Close']\n",
    "    returns = StockData.pct.change()\n",
    "    mean_returns = returns.mean()\n",
    "    cov_matrix = returns.cov()\n",
    "    return mean_returns, cov_matrix\n",
    "\n",
    "stock_list = ['LMT' , 'GM' , 'RUT' , 'NVDA' , 'MSFT']\n",
    "end_date = datetime.today()\n",
    "start_date = end_date - timedelta(days = 5*365)\n",
    "\n",
    "weights = optimal_weights\n",
    "print(weights)\n"
   ]
  },
  {
   "cell_type": "code",
   "execution_count": null,
   "metadata": {},
   "outputs": [],
   "source": [
    "# Set MC simulations\n",
    "\n",
    "mc_sims = 100\n",
    "T = 100\n",
    "\n",
    "Mean_matrix = np.full(shape=(T, len(weights)), fill_value = mean_returns) # setting matrix of return vectors\n",
    "Mean_matrix = Mean_matrix.T #(transpose of the matrix)\n",
    "\n",
    "Portfolio_sims = np.full(shape = (T, mc_sims), fill_value=0.0)\n",
    "\n",
    "initial_value = 1000\n",
    "\n",
    "for m in range(0, mc_sims):\n",
    "    Z = np.random.normal(size=(T, len(weights)))\n",
    "    L = np.linalg.cholesky(cov_matrix)\n",
    "    Mc_return = Mean_matrix + np.inner(L, Z) #Using cholesky decomposition\n",
    "    Portfolio_sims[: ,m] = np.cumprod(np.inner(weights, Mc_return.T)+1)*initial_value\n",
    "\n",
    "    "
   ]
  },
  {
   "cell_type": "markdown",
   "metadata": {},
   "source": [
    "MC visulaisation"
   ]
  },
  {
   "cell_type": "code",
   "execution_count": null,
   "metadata": {},
   "outputs": [],
   "source": [
    "plt.plot(Portfolio_sims)\n",
    "plt.ylabel('Value in $')\n",
    "plt.xlabel('Days')\n",
    "plt.title('MC simulation of a portfolio')\n",
    "plt.show()"
   ]
  }
 ],
 "metadata": {
  "kernelspec": {
   "display_name": "Python 3",
   "language": "python",
   "name": "python3"
  },
  "language_info": {
   "codemirror_mode": {
    "name": "ipython",
    "version": 3
   },
   "file_extension": ".py",
   "mimetype": "text/x-python",
   "name": "python",
   "nbconvert_exporter": "python",
   "pygments_lexer": "ipython3",
   "version": "3.12.3"
  }
 },
 "nbformat": 4,
 "nbformat_minor": 2
}
